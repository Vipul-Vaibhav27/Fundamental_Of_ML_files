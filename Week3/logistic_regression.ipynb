{
 "cells": [
  {
   "cell_type": "code",
   "execution_count": 1,
   "metadata": {
    "collapsed": true,
    "ExecuteTime": {
     "end_time": "2023-09-21T03:10:48.640671100Z",
     "start_time": "2023-09-21T03:10:24.234665300Z"
    }
   },
   "outputs": [],
   "source": [
    "import numpy as np\n",
    "import matplotlib.pyplot as plt"
   ]
  },
  {
   "cell_type": "code",
   "execution_count": 2,
   "outputs": [
    {
     "name": "stdout",
     "output_type": "stream",
     "text": [
      "Input to exp: [1 2 3]\n",
      "Output of exp: [ 2.71828183  7.3890561  20.08553692]\n",
      "Input to exp: 1\n",
      "Output to exp: 2.718281828459045\n"
     ]
    }
   ],
   "source": [
    "\"\"\"\n",
    "sigmoid function is\n",
    "1/(1+e^-z)\n",
    "i)where z can be a single number in case\n",
    "of just one example, m=1\n",
    "ii) where z can be a vector of ndarray (m,)\n",
    "in case of multiple examples\n",
    "\n",
    "Numpy can handle both using np.exp()\n",
    "\"\"\"\n",
    "\n",
    "#Input is an array\n",
    "input_array = np.array([1, 2, 3])\n",
    "exp_array = np.exp(input_array)\n",
    "\n",
    "print(\"Input to exp:\", input_array)\n",
    "print(\"Output of exp:\", exp_array)\n",
    "\n",
    "# Input is a single number\n",
    "input_val=1\n",
    "exp_val = np.exp(input_val)\n",
    "\n",
    "print(\"Input to exp:\", input_val)\n",
    "print(\"Output to exp:\", exp_val)"
   ],
   "metadata": {
    "collapsed": false,
    "ExecuteTime": {
     "end_time": "2023-09-21T03:12:07.608122200Z",
     "start_time": "2023-09-21T03:12:07.599221500Z"
    }
   }
  },
  {
   "cell_type": "code",
   "execution_count": 3,
   "outputs": [],
   "source": [
    "def sigmoid(z):\n",
    "    \"\"\"\n",
    "    Compute the sigmoid of z\n",
    "\n",
    "    Args:\n",
    "        z (ndarray): A scalar, numpy array of any size.\n",
    "\n",
    "    Returns:\n",
    "        g (ndarray): sigmoid(z), with the same shape as z\n",
    "\n",
    "    \"\"\"\n",
    "    g = 1/(1+np.exp(-z))\n",
    "    return g"
   ],
   "metadata": {
    "collapsed": false,
    "ExecuteTime": {
     "end_time": "2023-09-21T03:12:52.285513700Z",
     "start_time": "2023-09-21T03:12:52.279978800Z"
    }
   }
  },
  {
   "cell_type": "code",
   "execution_count": 4,
   "outputs": [
    {
     "name": "stdout",
     "output_type": "stream",
     "text": [
      "Input (z), Output (sigmoid(z))\n",
      "[[-1.000e+01  4.540e-05]\n",
      " [-9.000e+00  1.234e-04]\n",
      " [-8.000e+00  3.354e-04]\n",
      " [-7.000e+00  9.111e-04]\n",
      " [-6.000e+00  2.473e-03]\n",
      " [-5.000e+00  6.693e-03]\n",
      " [-4.000e+00  1.799e-02]\n",
      " [-3.000e+00  4.743e-02]\n",
      " [-2.000e+00  1.192e-01]\n",
      " [-1.000e+00  2.689e-01]\n",
      " [ 0.000e+00  5.000e-01]\n",
      " [ 1.000e+00  7.311e-01]\n",
      " [ 2.000e+00  8.808e-01]\n",
      " [ 3.000e+00  9.526e-01]\n",
      " [ 4.000e+00  9.820e-01]\n",
      " [ 5.000e+00  9.933e-01]\n",
      " [ 6.000e+00  9.975e-01]\n",
      " [ 7.000e+00  9.991e-01]\n",
      " [ 8.000e+00  9.997e-01]\n",
      " [ 9.000e+00  9.999e-01]\n",
      " [ 1.000e+01  1.000e+00]]\n"
     ]
    }
   ],
   "source": [
    "# Generate an array of evenly spaced values between -10 and 10\n",
    "z_tmp = np.arange(-10,11)\n",
    "\n",
    "# Use the function implemented above to get the sigmoid values\n",
    "y = sigmoid(z_tmp)\n",
    "\n",
    "# Code for pretty printing the two arrays next to each other\n",
    "np.set_printoptions(precision=3)\n",
    "print(\"Input (z), Output (sigmoid(z))\")\n",
    "print(np.c_[z_tmp, y])"
   ],
   "metadata": {
    "collapsed": false,
    "ExecuteTime": {
     "end_time": "2023-09-21T03:13:09.934769600Z",
     "start_time": "2023-09-21T03:13:09.927761900Z"
    }
   }
  },
  {
   "cell_type": "code",
   "execution_count": 6,
   "outputs": [
    {
     "data": {
      "text/plain": "<Figure size 500x300 with 1 Axes>",
      "image/png": "[encoded data removed]"
     },
     "metadata": {},
     "output_type": "display_data"
    }
   ],
   "source": [
    "# Plot z vs sigmoid(z)\n",
    "fig, ax = plt.subplots(1, 1, figsize=(5, 3))\n",
    "ax.plot(z_tmp, y, c=\"b\")\n",
    "\n",
    "ax.set_title(\"Sigmoid function\")\n",
    "ax.set_ylabel(\"sigmoid(z)\")\n",
    "ax.set_xlabel(\"z\")\n",
    "plt.show()"
   ],
   "metadata": {
    "collapsed": false,
    "ExecuteTime": {
     "end_time": "2023-09-21T03:16:05.166728600Z",
     "start_time": "2023-09-21T03:16:04.888708100Z"
    }
   }
  },
  {
   "cell_type": "code",
   "execution_count": 51,
   "outputs": [],
   "source": [
    "# Just input in, the previous linear regression model into this sigmoid and run using gradient descent\n",
    "\n",
    "# todo-me: Run Logistic Regression\n",
    "def compute_cost(X, y, w, b):\n",
    "    m=X.shape[0]\n",
    "    z = np.dot(X, w) + b\n",
    "    diff = sigmoid(z)-y\n",
    "    cost = np.dot(diff, diff)\n",
    "    return cost/(2*m)\n",
    "\n",
    "def compute_gradient(X, y, w, b):\n",
    "    m, n=X.shape\n",
    "    dj_dw = np.zeros(n)\n",
    "    dj_db = 0\n",
    "    for j in range(n):\n",
    "        sum=0\n",
    "        for i in range(m):\n",
    "            f_wb_i = np.dot(X[i,:], w)+b\n",
    "            diff_i = sigmoid(f_wb_i)-y[i]\n",
    "            each_i = np.exp(-f_wb_i)*(sigmoid(f_wb_i)**2)*diff_i*X[i,j]\n",
    "            sum+=each_i\n",
    "        dj_dw[j]=sum/m\n",
    "    sum=0\n",
    "    for i in range(m):\n",
    "        f_wb_i = np.dot(X[i,:], w)+b\n",
    "        diff_i = sigmoid(f_wb_i)-y[i]\n",
    "        each_i = np.exp(-f_wb_i)*(sigmoid(f_wb_i)**2)*diff_i\n",
    "        sum+=each_i\n",
    "    dj_db=sum/m\n",
    "    return dj_dw, dj_db"
   ],
   "metadata": {
    "collapsed": false,
    "ExecuteTime": {
     "end_time": "2023-09-21T09:18:10.437388900Z",
     "start_time": "2023-09-21T09:18:10.424344400Z"
    }
   }
  },
  {
   "cell_type": "code",
   "execution_count": 52,
   "outputs": [],
   "source": [
    "def gradient_descent(X_train, y_train, w_in, b_in, alpha, iterations, compute_cost, compute_gradient):\n",
    "    m,n=X_train.shape\n",
    "    w, b = w_in, b_in\n",
    "    J_cost=[]\n",
    "    for i in range(iterations):\n",
    "        dj_dw, dj_db = compute_gradient(X_train, y_train, w, b)\n",
    "        cost = compute_cost(X_train, y_train, w, b)\n",
    "        w = w-alpha*dj_dw\n",
    "        b = b-alpha*dj_db\n",
    "        J_cost.append(cost)\n",
    "        if i%100==0:\n",
    "            print(f\"Cost of {i}th iteration is:\", cost)\n",
    "    print(f\"final w is {w}\")\n",
    "    print(f\"final b is {b}\")\n",
    "    return w, b, J_cost"
   ],
   "metadata": {
    "collapsed": false,
    "ExecuteTime": {
     "end_time": "2023-09-21T09:18:20.536015300Z",
     "start_time": "2023-09-21T09:18:20.526253900Z"
    }
   }
  },
  {
   "cell_type": "code",
   "execution_count": 59,
   "outputs": [
    {
     "name": "stdout",
     "output_type": "stream",
     "text": [
      "Cost of 0th iteration is: 0.125\n",
      "Cost of 100th iteration is: 0.08847367305176518\n",
      "Cost of 200th iteration is: 0.07885224753112284\n",
      "Cost of 300th iteration is: 0.0717056971787701\n",
      "Cost of 400th iteration is: 0.0664201749707173\n",
      "Cost of 500th iteration is: 0.062472647869239534\n",
      "Cost of 600th iteration is: 0.05947743427372116\n",
      "Cost of 700th iteration is: 0.05716466971920098\n",
      "Cost of 800th iteration is: 0.055348012245740534\n",
      "Cost of 900th iteration is: 0.05389819326194078\n",
      "Cost of 1000th iteration is: 0.052724391128657594\n",
      "Cost of 1100th iteration is: 0.05176176931503525\n",
      "Cost of 1200th iteration is: 0.05096325430503268\n",
      "Cost of 1300th iteration is: 0.05029409671939042\n",
      "Cost of 1400th iteration is: 0.04972823621615512\n",
      "Cost of 1500th iteration is: 0.04924583810965025\n",
      "Cost of 1600th iteration is: 0.04883159842359224\n",
      "Cost of 1700th iteration is: 0.04847355947321767\n",
      "Cost of 1800th iteration is: 0.04816226955812288\n",
      "Cost of 1900th iteration is: 0.04789017806017615\n",
      "Cost of 2000th iteration is: 0.04765119395963662\n",
      "Cost of 2100th iteration is: 0.04744035941695968\n",
      "Cost of 2200th iteration is: 0.04725360548008844\n",
      "Cost of 2300th iteration is: 0.04708756716525626\n",
      "Cost of 2400th iteration is: 0.046939441986620284\n",
      "Cost of 2500th iteration is: 0.046806880646672024\n",
      "Cost of 2600th iteration is: 0.0466879017892273\n",
      "Cost of 2700th iteration is: 0.046580824938721684\n",
      "Cost of 2800th iteration is: 0.04648421731568451\n",
      "Cost of 2900th iteration is: 0.04639685133469474\n",
      "Cost of 3000th iteration is: 0.04631767039553971\n",
      "Cost of 3100th iteration is: 0.04624576116381907\n",
      "Cost of 3200th iteration is: 0.04618033096755105\n",
      "Cost of 3300th iteration is: 0.04612068925548969\n",
      "Cost of 3400th iteration is: 0.04606623230162548\n",
      "Cost of 3500th iteration is: 0.04601643052043827\n",
      "Cost of 3600th iteration is: 0.04597081789438055\n",
      "Cost of 3700th iteration is: 0.04592898311991966\n",
      "Cost of 3800th iteration is: 0.04589056215933531\n",
      "Cost of 3900th iteration is: 0.0458552319482566\n",
      "Cost of 4000th iteration is: 0.04582270505798561\n",
      "Cost of 4100th iteration is: 0.04579272515022641\n",
      "Cost of 4200th iteration is: 0.04576506309233783\n",
      "Cost of 4300th iteration is: 0.04573951362547923\n",
      "Cost of 4400th iteration is: 0.04571589249740222\n",
      "Cost of 4500th iteration is: 0.04569403398721381\n",
      "Cost of 4600th iteration is: 0.045673788762007915\n",
      "Cost of 4700th iteration is: 0.04565502201545608\n",
      "Cost of 4800th iteration is: 0.04563761184675399\n",
      "Cost of 4900th iteration is: 0.045621447845113024\n",
      "Cost of 5000th iteration is: 0.045606429850567516\n",
      "Cost of 5100th iteration is: 0.045592466866468735\n",
      "Cost of 5200th iteration is: 0.04557947610284679\n",
      "Cost of 5300th iteration is: 0.04556738213298477\n",
      "Cost of 5400th iteration is: 0.04555611614818717\n",
      "Cost of 5500th iteration is: 0.045545615297931726\n",
      "Cost of 5600th iteration is: 0.04553582210444349\n",
      "Cost of 5700th iteration is: 0.04552668394228947\n",
      "Cost of 5800th iteration is: 0.045518152574906746\n",
      "Cost of 5900th iteration is: 0.04551018374109175\n",
      "Cost of 6000th iteration is: 0.045502736785422944\n",
      "Cost of 6100th iteration is: 0.04549577432739548\n",
      "Cost of 6200th iteration is: 0.04548926196473277\n",
      "Cost of 6300th iteration is: 0.04548316800692864\n",
      "Cost of 6400th iteration is: 0.04547746323557799\n",
      "Cost of 6500th iteration is: 0.0454721206884876\n",
      "Cost of 6600th iteration is: 0.04546711546493303\n",
      "Cost of 6700th iteration is: 0.045462424549749955\n",
      "Cost of 6800th iteration is: 0.045458026654228295\n",
      "Cost of 6900th iteration is: 0.04545390207201966\n",
      "Cost of 7000th iteration is: 0.04545003254847968\n",
      "Cost of 7100th iteration is: 0.045446401162050044\n",
      "Cost of 7200th iteration is: 0.04544299221644534\n",
      "Cost of 7300th iteration is: 0.045439791142549986\n",
      "Cost of 7400th iteration is: 0.04543678440905285\n",
      "Cost of 7500th iteration is: 0.04543395944095477\n",
      "Cost of 7600th iteration is: 0.04543130454517903\n",
      "Cost of 7700th iteration is: 0.0454288088425976\n",
      "Cost of 7800th iteration is: 0.04542646220585932\n",
      "Cost of 7900th iteration is: 0.04542425520247168\n",
      "Cost of 8000th iteration is: 0.04542217904264409\n",
      "Cost of 8100th iteration is: 0.04542022553145194\n",
      "Cost of 8200th iteration is: 0.04541838702492573\n",
      "Cost of 8300th iteration is: 0.04541665638970915\n",
      "Cost of 8400th iteration is: 0.045415026965965895\n",
      "Cost of 8500th iteration is: 0.04541349253324661\n",
      "Cost of 8600th iteration is: 0.04541204727905521\n",
      "Cost of 8700th iteration is: 0.045410685769879805\n",
      "Cost of 8800th iteration is: 0.04540940292447505\n",
      "Cost of 8900th iteration is: 0.04540819398920388\n",
      "Cost of 9000th iteration is: 0.045407054515263875\n",
      "Cost of 9100th iteration is: 0.045405980337640144\n",
      "Cost of 9200th iteration is: 0.04540496755564129\n",
      "Cost of 9300th iteration is: 0.04540401251488762\n",
      "Cost of 9400th iteration is: 0.04540311179063332\n",
      "Cost of 9500th iteration is: 0.045402262172313974\n",
      "Cost of 9600th iteration is: 0.04540146064922158\n",
      "Cost of 9700th iteration is: 0.0454007043972168\n",
      "Cost of 9800th iteration is: 0.04539999076639642\n",
      "Cost of 9900th iteration is: 0.04539931726964163\n",
      "final w is [0.622]\n",
      "final b is -3.717240622396662\n",
      "[0.622] -3.717240622396662\n"
     ]
    }
   ],
   "source": [
    "w_init = np.zeros(1)\n",
    "b_init = 0\n",
    "X_train = np.array([[1], [2], [3], [4], [5], [7], [8], [9], [10], [11], [12]])\n",
    "y_train = np.array([0, 0, 0, 0, 1, 0, 1, 1, 1, 1, 1])\n",
    "alpha = 0.1\n",
    "iterations=10000\n",
    "w_final, b_final, J_cost = gradient_descent(X_train, y_train, w_init, b_init, alpha, iterations, compute_cost, compute_gradient)\n",
    "print(w_final, b_final)"
   ],
   "metadata": {
    "collapsed": false,
    "ExecuteTime": {
     "end_time": "2023-09-21T09:19:20.490746600Z",
     "start_time": "2023-09-21T09:19:19.057895Z"
    }
   }
  },
  {
   "cell_type": "code",
   "execution_count": 61,
   "outputs": [
    {
     "data": {
      "text/plain": "<Figure size 640x480 with 1 Axes>",
      "image/png": "[encoded data removed]"
     },
     "metadata": {},
     "output_type": "display_data"
    }
   ],
   "source": [
    "plt.plot(J_cost, np.arange(0, 10000))\n",
    "plt.show()"
   ],
   "metadata": {
    "collapsed": false,
    "ExecuteTime": {
     "end_time": "2023-09-21T09:20:07.051932300Z",
     "start_time": "2023-09-21T09:20:06.925933900Z"
    }
   }
  },
  {
   "cell_type": "code",
   "execution_count": 62,
   "outputs": [],
   "source": [
    "def predict(w_final, b_final, X):\n",
    "    # here x is whole input variable\n",
    "    f_wb=np.dot(X,w_final)+b_final\n",
    "    return sigmoid(f_wb)"
   ],
   "metadata": {
    "collapsed": false,
    "ExecuteTime": {
     "end_time": "2023-09-21T09:21:53.223723400Z",
     "start_time": "2023-09-21T09:21:53.216815900Z"
    }
   }
  },
  {
   "cell_type": "code",
   "execution_count": 63,
   "outputs": [
    {
     "data": {
      "text/plain": "array([0.227])"
     },
     "execution_count": 63,
     "metadata": {},
     "output_type": "execute_result"
    }
   ],
   "source": [
    "predict(w_final, b_final, 4)"
   ],
   "metadata": {
    "collapsed": false,
    "ExecuteTime": {
     "end_time": "2023-09-21T09:22:25.430998100Z",
     "start_time": "2023-09-21T09:22:25.421471800Z"
    }
   }
  },
  {
   "cell_type": "code",
   "execution_count": 70,
   "outputs": [
    {
     "data": {
      "text/plain": "<Figure size 1200x600 with 1 Axes>",
      "image/png": "[encoded data removed]"
     },
     "metadata": {},
     "output_type": "display_data"
    }
   ],
   "source": [
    "pos=y_train==1\n",
    "neg=y_train==0\n",
    "fig, ax=plt.subplots(1, 1, figsize=(12,6))\n",
    "ax.scatter(X_train[pos], y_train[pos], marker='x', s=80, c='red', label=\"y=1\")\n",
    "ax.scatter(X_train[neg],y_train[neg],marker='o',s=100,label=\"y=0\",lw=3)\n",
    "ax.set_ylim(-0.08,1.1)\n",
    "ax.set_ylabel('y', fontsize=12)\n",
    "ax.set_xlabel('x', fontsize=12)\n",
    "ax.set_title('one variable plot')\n",
    "ax.plot(X_train, predict(w_final, b_final, X_train))\n",
    "ax.legend()\n",
    "plt.tight_layout()\n",
    "plt.show()"
   ],
   "metadata": {
    "collapsed": false,
    "ExecuteTime": {
     "end_time": "2023-09-21T09:31:56.423119400Z",
     "start_time": "2023-09-21T09:31:56.219376600Z"
    }
   }
  }
 ],
 "metadata": {
  "kernelspec": {
   "display_name": "Python 3",
   "language": "python",
   "name": "python3"
  },
  "language_info": {
   "codemirror_mode": {
    "name": "ipython",
    "version": 2
   },
   "file_extension": ".py",
   "mimetype": "text/x-python",
   "name": "python",
   "nbconvert_exporter": "python",
   "pygments_lexer": "ipython2",
   "version": "2.7.6"
  }
 },
 "nbformat": 4,
 "nbformat_minor": 0
}
