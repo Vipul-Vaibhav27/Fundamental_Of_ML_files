{
 "cells": [
  {
   "cell_type": "code",
   "execution_count": 1,
   "metadata": {
    "collapsed": true,
    "ExecuteTime": {
     "end_time": "2023-09-18T22:05:20.260482100Z",
     "start_time": "2023-09-18T22:05:12.877812700Z"
    }
   },
   "outputs": [],
   "source": [
    "import math, copy\n",
    "import numpy as np\n",
    "import matplotlib.pyplot as plt"
   ]
  },
  {
   "cell_type": "code",
   "execution_count": 7,
   "outputs": [],
   "source": [
    "#loading on data set\n",
    "x_train = np.array([1.0, 2.0])\n",
    "y_train = np.array([300.0, 500.0])"
   ],
   "metadata": {
    "collapsed": false,
    "ExecuteTime": {
     "end_time": "2023-09-18T22:27:35.238157600Z",
     "start_time": "2023-09-18T22:27:35.233077100Z"
    }
   }
  },
  {
   "cell_type": "code",
   "execution_count": 3,
   "outputs": [],
   "source": [
    "#Function to calculate cost\n",
    "def compute_cost(x, y, w, b):\n",
    "    tot_cost=0\n",
    "    m=len(x)\n",
    "    for i in range(m):\n",
    "        f_wb=w*x[i]+b\n",
    "        sq_diff=(y[i]-f_wb)**2\n",
    "        tot_cost+=sq_diff\n",
    "    tot_cost=tot_cost/(2*m)\n",
    "    return tot_cost"
   ],
   "metadata": {
    "collapsed": false,
    "ExecuteTime": {
     "end_time": "2023-09-18T22:08:08.278581800Z",
     "start_time": "2023-09-18T22:08:07.937036700Z"
    }
   }
  },
  {
   "cell_type": "markdown",
   "source": [
    "To compute:-\n",
    "1) compute_gradient\n",
    "2) compute_cost\n",
    "3) gradient_descent"
   ],
   "metadata": {
    "collapsed": false
   }
  },
  {
   "cell_type": "code",
   "execution_count": 4,
   "outputs": [],
   "source": [
    "def compute_gradient(x, y, w, b):\n",
    "    m=x.shape[0]\n",
    "    summation_w=0\n",
    "    summation_b=0\n",
    "    for i in range(m):\n",
    "        f_wb=w*x[i]+b\n",
    "        summation_w+=(f_wb-y[i])*x[i]\n",
    "        summation_b+=(f_wb-y[i])\n",
    "    summation_w/=m\n",
    "    summation_b/=m\n",
    "    return summation_w, summation_b"
   ],
   "metadata": {
    "collapsed": false,
    "ExecuteTime": {
     "end_time": "2023-09-18T22:15:00.523210100Z",
     "start_time": "2023-09-18T22:15:00.494196400Z"
    }
   }
  },
  {
   "cell_type": "code",
   "execution_count": 5,
   "outputs": [],
   "source": [
    "def gradient_descent(x, y, w_in, b_in, alpha, num_iters, cost_function, gradient_function):\n",
    "    J_history=[]\n",
    "    p_history=[]\n",
    "    b=b_in\n",
    "    w=w_in\n",
    "    for i in range(num_iters):\n",
    "        # Calculate the gradient and update the parameters using gradient_function\n",
    "        dj_dw, dj_db = gradient_function(x, y, w, b)\n",
    "\n",
    "        # update parameters using above\n",
    "        b = b - alpha*dj_db\n",
    "        w = w - alpha*dj_dw\n",
    "\n",
    "        # save cost J at each iteration\n",
    "        if i<100000: # prevent resource exhaustion\n",
    "            J_history.append(cost_function(x, y, w, b))\n",
    "            p_history.append([w, b])\n",
    "        # Print cost every at intervals 10 times or as many iterations if < 10\n",
    "        if i%math.ceil(num_iters/10)==0:\n",
    "            print(f\"Iteration{i:4}: Cost {J_history[-1]:0.2e} \", f\"dj_dw: {dj_dw: 0.3e}, dj_db: {dj_db:0.3e} \", f\"w: {w: 0.3e}, b: {b: 0.5e}\")\n",
    "    return w, b, J_history, p_history"
   ],
   "metadata": {
    "collapsed": false,
    "ExecuteTime": {
     "end_time": "2023-09-18T22:23:40.526207Z",
     "start_time": "2023-09-18T22:23:40.515007300Z"
    }
   }
  },
  {
   "cell_type": "code",
   "execution_count": 8,
   "outputs": [
    {
     "name": "stdout",
     "output_type": "stream",
     "text": [
      "Iteration   0: Cost 7.93e+04  dj_dw: -6.500e+02, dj_db: -4.000e+02  w:  6.500e+00, b:  4.00000e+00\n",
      "Iteration1000: Cost 3.41e+00  dj_dw: -3.712e-01, dj_db: 6.007e-01  w:  1.949e+02, b:  1.08228e+02\n",
      "Iteration2000: Cost 7.93e-01  dj_dw: -1.789e-01, dj_db: 2.895e-01  w:  1.975e+02, b:  1.03966e+02\n",
      "Iteration3000: Cost 1.84e-01  dj_dw: -8.625e-02, dj_db: 1.396e-01  w:  1.988e+02, b:  1.01912e+02\n",
      "Iteration4000: Cost 4.28e-02  dj_dw: -4.158e-02, dj_db: 6.727e-02  w:  1.994e+02, b:  1.00922e+02\n",
      "Iteration5000: Cost 9.95e-03  dj_dw: -2.004e-02, dj_db: 3.243e-02  w:  1.997e+02, b:  1.00444e+02\n",
      "Iteration6000: Cost 2.31e-03  dj_dw: -9.660e-03, dj_db: 1.563e-02  w:  1.999e+02, b:  1.00214e+02\n",
      "Iteration7000: Cost 5.37e-04  dj_dw: -4.657e-03, dj_db: 7.535e-03  w:  1.999e+02, b:  1.00103e+02\n",
      "Iteration8000: Cost 1.25e-04  dj_dw: -2.245e-03, dj_db: 3.632e-03  w:  2.000e+02, b:  1.00050e+02\n",
      "Iteration9000: Cost 2.90e-05  dj_dw: -1.082e-03, dj_db: 1.751e-03  w:  2.000e+02, b:  1.00024e+02\n",
      "(w,b) found by gradient descent: (199.9929,100.0116)\n"
     ]
    }
   ],
   "source": [
    "# initialize paramters\n",
    "w_init=0\n",
    "b_init=0\n",
    "# some gradient settings\n",
    "iterations = 10000\n",
    "tmp_alpha = 1.0e-2\n",
    "# run gradient descent\n",
    "w_final, b_final, J_hist, p_hist = gradient_descent(x_train, y_train, w_init, b_init, tmp_alpha, iterations, compute_cost, compute_gradient)\n",
    "\n",
    "print(f\"(w,b) found by gradient descent: ({w_final:8.4f},{b_final:8.4f})\")"
   ],
   "metadata": {
    "collapsed": false,
    "ExecuteTime": {
     "end_time": "2023-09-18T22:27:42.525302800Z",
     "start_time": "2023-09-18T22:27:42.471654700Z"
    }
   }
  }
 ],
 "metadata": {
  "kernelspec": {
   "display_name": "Python 3",
   "language": "python",
   "name": "python3"
  },
  "language_info": {
   "codemirror_mode": {
    "name": "ipython",
    "version": 2
   },
   "file_extension": ".py",
   "mimetype": "text/x-python",
   "name": "python",
   "nbconvert_exporter": "python",
   "pygments_lexer": "ipython2",
   "version": "2.7.6"
  }
 },
 "nbformat": 4,
 "nbformat_minor": 0
}
