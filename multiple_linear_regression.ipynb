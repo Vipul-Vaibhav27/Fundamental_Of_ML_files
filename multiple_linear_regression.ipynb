{
 "cells": [
  {
   "cell_type": "code",
   "execution_count": 1,
   "metadata": {
    "collapsed": true,
    "ExecuteTime": {
     "end_time": "2023-09-19T13:36:47.825303900Z",
     "start_time": "2023-09-19T13:36:43.622464200Z"
    }
   },
   "outputs": [],
   "source": [
    "import math, copy\n",
    "import numpy as np\n",
    "import matplotlib.pyplot as plt\n",
    "# redcued display precision on numpy arrays\n",
    "np.set_printoptions(precision=2)"
   ]
  },
  {
   "cell_type": "code",
   "execution_count": 2,
   "outputs": [],
   "source": [
    "X_train = np.array([[2104, 5, 1, 45],\n",
    "                    [1416, 3, 2, 40],\n",
    "                    [852, 2, 1, 35]])\n",
    "y_train = np.array([460, 232, 178])"
   ],
   "metadata": {
    "collapsed": false,
    "ExecuteTime": {
     "end_time": "2023-09-19T13:36:47.829508900Z",
     "start_time": "2023-09-19T13:36:47.826304300Z"
    }
   }
  },
  {
   "cell_type": "code",
   "execution_count": 6,
   "outputs": [
    {
     "name": "stdout",
     "output_type": "stream",
     "text": [
      "(3, 4)\n"
     ]
    }
   ],
   "source": [
    "print(X_train.shape)# m=3, n=4"
   ],
   "metadata": {
    "collapsed": false,
    "ExecuteTime": {
     "end_time": "2023-09-19T13:38:56.081929700Z",
     "start_time": "2023-09-19T13:38:56.076916900Z"
    }
   }
  },
  {
   "cell_type": "code",
   "execution_count": 7,
   "outputs": [
    {
     "name": "stdout",
     "output_type": "stream",
     "text": [
      "X Shape: (3, 4), X Type:<class 'numpy.ndarray'>\n",
      "[[2104    5    1   45]\n",
      " [1416    3    2   40]\n",
      " [ 852    2    1   35]]\n",
      "y Shape: (3,), y Type:<class 'numpy.ndarray'>\n",
      "[460 232 178]\n"
     ]
    }
   ],
   "source": [
    "# data is stored in numpy array/matrix\n",
    "print(f\"X Shape: {X_train.shape}, X Type:{type(X_train)}\")\n",
    "print(X_train)\n",
    "print(f\"y Shape: {y_train.shape}, y Type:{type(y_train)}\")\n",
    "print(y_train)"
   ],
   "metadata": {
    "collapsed": false,
    "ExecuteTime": {
     "end_time": "2023-09-19T13:39:18.761483700Z",
     "start_time": "2023-09-19T13:39:18.738117700Z"
    }
   }
  },
  {
   "cell_type": "code",
   "execution_count": 8,
   "outputs": [
    {
     "name": "stdout",
     "output_type": "stream",
     "text": [
      "w_init shape: (4,), b_init type: <class 'float'>\n"
     ]
    }
   ],
   "source": [
    "b_init = 785.1811367994083\n",
    "w_init = np.array([ 0.39133535, 18.75376741, -53.36032453, -26.42131618])\n",
    "print(f\"w_init shape: {w_init.shape}, b_init type: {type(b_init)}\")"
   ],
   "metadata": {
    "collapsed": false,
    "ExecuteTime": {
     "end_time": "2023-09-19T13:40:46.661199900Z",
     "start_time": "2023-09-19T13:40:46.629093600Z"
    }
   }
  },
  {
   "cell_type": "code",
   "execution_count": 9,
   "outputs": [],
   "source": [
    "def predict_single_loop(x, w, b):\n",
    "    \"\"\"\n",
    "\n",
    "    :param x: ndarray, Shape (n,)\n",
    "    :param w: ndarray, Shape (n,)\n",
    "    :param b: scalar, model parameter\n",
    "    :return: p(scalar): prediction\n",
    "    \"\"\"\n",
    "    n = x.shape[0]\n",
    "    p=0\n",
    "    for i in range(n):\n",
    "        p_i=x[i]*w[i]\n",
    "        p+=p_i\n",
    "    p+=b\n",
    "    return p"
   ],
   "metadata": {
    "collapsed": false,
    "ExecuteTime": {
     "end_time": "2023-09-19T13:43:33.023037Z",
     "start_time": "2023-09-19T13:43:33.016509900Z"
    }
   }
  },
  {
   "cell_type": "code",
   "execution_count": 10,
   "outputs": [
    {
     "name": "stdout",
     "output_type": "stream",
     "text": [
      "x_vec shape (4,), x_vec value: [2104    5    1   45]\n",
      "f_wb shape (), prediction: 459.9999976194083\n"
     ]
    }
   ],
   "source": [
    "# get a row from training data\n",
    "x_vec = X_train[0]\n",
    "print(f\"x_vec shape {x_vec.shape}, x_vec value: {x_vec}\")\n",
    "\n",
    "# make a prediction\n",
    "f_wb = predict_single_loop(x_vec, w_init, b_init)\n",
    "print(f\"f_wb shape {f_wb.shape}, prediction: {f_wb}\")"
   ],
   "metadata": {
    "collapsed": false,
    "ExecuteTime": {
     "end_time": "2023-09-19T13:44:55.927327400Z",
     "start_time": "2023-09-19T13:44:55.922314100Z"
    }
   }
  },
  {
   "cell_type": "code",
   "execution_count": 11,
   "outputs": [],
   "source": [
    "# Implenting above prediction using dot product\n",
    "def predict(x, w, b):\n",
    "    \"\"\"\n",
    "\n",
    "    :param x: ndarray, Shape (n,)\n",
    "    :param w: ndarray, Shape (n,)\n",
    "    :param b: scalar, model parameter\n",
    "    :return: p(scalar): prediction\n",
    "    \"\"\"\n",
    "    p=np.dot(w, x)+b\n",
    "    return p"
   ],
   "metadata": {
    "collapsed": false,
    "ExecuteTime": {
     "end_time": "2023-09-19T13:46:29.867857700Z",
     "start_time": "2023-09-19T13:46:29.835886700Z"
    }
   }
  },
  {
   "cell_type": "code",
   "execution_count": 12,
   "outputs": [
    {
     "name": "stdout",
     "output_type": "stream",
     "text": [
      "x_vec shape (4,), x_vec value: [2104    5    1   45]\n",
      "f_wb shape (), prediction: 459.9999976194083\n"
     ]
    }
   ],
   "source": [
    "print(f\"x_vec shape {x_vec.shape}, x_vec value: {x_vec}\")\n",
    "# make a prediction\n",
    "f_wb = predict_single_loop(x_vec, w_init, b_init)\n",
    "print(f\"f_wb shape {f_wb.shape}, prediction: {f_wb}\")"
   ],
   "metadata": {
    "collapsed": false,
    "ExecuteTime": {
     "end_time": "2023-09-19T13:46:56.638442200Z",
     "start_time": "2023-09-19T13:46:56.633920800Z"
    }
   }
  },
  {
   "cell_type": "code",
   "execution_count": 15,
   "outputs": [],
   "source": [
    "def compute_cost(X, y, w, b):\n",
    "    \"\"\"\n",
    "    compute cost\n",
    "    Args:\n",
    "      X (ndarray (m,n)): Data, m examples with n features\n",
    "      y (ndarray (m,)) : target values\n",
    "      w (ndarray (n,)) : model parameters\n",
    "      b (scalar)       : model parameter\n",
    "\n",
    "    Returns:\n",
    "      cost (scalar): cost\n",
    "    \"\"\"\n",
    "    m = X_train.shape[0]\n",
    "    f_wb = np.dot(X, w)+b\n",
    "    diff = f_wb - y\n",
    "    cost = np.dot(diff, diff)\n",
    "    cost = cost/(2*m)\n",
    "    return cost"
   ],
   "metadata": {
    "collapsed": false,
    "ExecuteTime": {
     "end_time": "2023-09-19T13:52:09.074755Z",
     "start_time": "2023-09-19T13:52:09.069047900Z"
    }
   }
  },
  {
   "cell_type": "code",
   "execution_count": 16,
   "outputs": [
    {
     "name": "stdout",
     "output_type": "stream",
     "text": [
      "Cost at optimal w : 1.5578904330213735e-12\n"
     ]
    }
   ],
   "source": [
    "# compute and display cost using our pre-chose optional parameters\n",
    "cost = compute_cost(X_train, y_train, w_init, b_init)\n",
    "print(f\"Cost at optimal w : {cost}\")"
   ],
   "metadata": {
    "collapsed": false,
    "ExecuteTime": {
     "end_time": "2023-09-19T13:52:11.129184100Z",
     "start_time": "2023-09-19T13:52:11.123427900Z"
    }
   }
  },
  {
   "cell_type": "code",
   "execution_count": 20,
   "outputs": [],
   "source": [
    "def compute_gradient(X, y, w, b):\n",
    "    \"\"\"\n",
    "    Computes the gradient for linear regression\n",
    "    Args:\n",
    "        X (ndarray (m,n)): Data, m examples with n features\n",
    "        y (ndarray (m,)) : target values\n",
    "        w (ndarray (n,)) : model parameters\n",
    "        b (scalar)       : model parameter\n",
    "\n",
    "    Returns:\n",
    "        dj_dw (ndarray (n,)): The gradient of the cost w.r.t. the parameters w.\n",
    "        dj_db (scalar):       The gradient of the cost w.r.t. the parameter b.\n",
    "    \"\"\"\n",
    "    m=X_train.shape[0]\n",
    "    n=X_train.shape[1]\n",
    "    diff = np.dot(X, w) - y + b\n",
    "    dj_dw=np.zeros(n)\n",
    "    for i in range(n):\n",
    "        sum = np.dot(X_train[:,i], diff)\n",
    "        dj_dw[i]=sum\n",
    "    dj_dw=dj_dw/m\n",
    "    dj_db=np.sum(diff)/m\n",
    "    return dj_dw, dj_db\n"
   ],
   "metadata": {
    "collapsed": false,
    "ExecuteTime": {
     "end_time": "2023-09-19T14:09:33.929833600Z",
     "start_time": "2023-09-19T14:09:33.925822400Z"
    }
   }
  },
  {
   "cell_type": "code",
   "execution_count": 21,
   "outputs": [
    {
     "name": "stdout",
     "output_type": "stream",
     "text": [
      "dj_db at initial w,b: -1.6739251122999121e-06\n",
      "dj_dw at initial w,b: \n",
      " [-2.73e-03 -6.27e-06 -2.22e-06 -6.92e-05]\n"
     ]
    }
   ],
   "source": [
    "# compute and display gradient\n",
    "tmp_dj_dw, tmp_dj_db = compute_gradient(X_train, y_train, w_init, b_init)\n",
    "print(f\"dj_db at initial w,b: {tmp_dj_db}\")\n",
    "print(f\"dj_dw at initial w,b: \\n {tmp_dj_dw}\")"
   ],
   "metadata": {
    "collapsed": false,
    "ExecuteTime": {
     "end_time": "2023-09-19T14:09:36.871756900Z",
     "start_time": "2023-09-19T14:09:36.865261500Z"
    }
   }
  },
  {
   "cell_type": "code",
   "execution_count": 24,
   "outputs": [],
   "source": [
    "# Now gradient descent with multiple variables\n",
    "def gradient_descent(X, y, w_in, b_in, cost_function, gradient_function, alpha, num_iters):\n",
    "    \"\"\"\n",
    "    Performs batch gradient descent to learn w and b. Updates w and b by taking\n",
    "    num_iters gradient steps with learning rate alpha\n",
    "\n",
    "    Args:\n",
    "      X (ndarray (m,n))   : Data, m examples with n features\n",
    "      y (ndarray (m,))    : target values\n",
    "      w_in (ndarray (n,)) : initial model parameters\n",
    "      b_in (scalar)       : initial model parameter\n",
    "      cost_function       : function to compute cost\n",
    "      gradient_function   : function to compute the gradient\n",
    "      alpha (float)       : Learning rate\n",
    "      num_iters (int)     : number of iterations to run gradient descent\n",
    "\n",
    "    Returns:\n",
    "      w (ndarray (n,)) : Updated values of parameters\n",
    "      b (scalar)       : Updated value of parameter\n",
    "      \"\"\"\n",
    "    w=w_in\n",
    "    b=b_in\n",
    "    for i in range(num_iters):\n",
    "        cost = compute_cost(X, y, w, b)\n",
    "        dj_dw, dj_db = compute_gradient(X, y, w, b)\n",
    "        w = w-alpha*dj_dw\n",
    "        b = b-alpha*dj_db\n",
    "        if i%99==0:\n",
    "            print(f\"Cost after {i} iterations: {cost}\")\n",
    "            print(f\"Current value of w is {w}\")\n",
    "            print(f\"Current value of b is {b}\")\n",
    "    return w, b"
   ],
   "metadata": {
    "collapsed": false,
    "ExecuteTime": {
     "end_time": "2023-09-19T14:23:14.846304800Z",
     "start_time": "2023-09-19T14:23:14.826302700Z"
    }
   }
  },
  {
   "cell_type": "code",
   "execution_count": 25,
   "outputs": [
    {
     "name": "stdout",
     "output_type": "stream",
     "text": [
      "Cost after 0 iterations: 49518.0\n",
      "Current value of w is [2.41e-01 5.59e-04 1.84e-04 6.03e-03]\n",
      "Current value of b is 0.000145\n",
      "Cost after 99 iterations: 696.0118041331306\n",
      "Current value of w is [ 0.2  0.  -0.  -0. ]\n",
      "Current value of b is -0.00011745590317761642\n",
      "Cost after 198 iterations: 694.9526500150532\n",
      "Current value of w is [ 0.2   0.   -0.   -0.01]\n",
      "Current value of b is -0.00035487296468089186\n",
      "Cost after 297 iterations: 693.9026620364898\n",
      "Current value of w is [ 0.2   0.   -0.   -0.02]\n",
      "Current value of b is -0.0005911804640586401\n",
      "Cost after 396 iterations: 692.8617598510532\n",
      "Current value of w is [ 0.2   0.   -0.   -0.02]\n",
      "Current value of b is -0.0008263832759345858\n",
      "Cost after 495 iterations: 691.8298638166552\n",
      "Current value of w is [ 0.2   0.   -0.01 -0.03]\n",
      "Current value of b is -0.0010604862535202677\n",
      "Cost after 594 iterations: 690.8068949893494\n",
      "Current value of w is [ 0.2   0.   -0.01 -0.04]\n",
      "Current value of b is -0.0012934942287090873\n",
      "Cost after 693 iterations: 689.7927751171948\n",
      "Current value of w is [ 0.2   0.   -0.01 -0.04]\n",
      "Current value of b is -0.001525412012169955\n",
      "Cost after 792 iterations: 688.7874266341963\n",
      "Current value of w is [ 0.2   0.   -0.01 -0.05]\n",
      "Current value of b is -0.0017562443934405175\n",
      "Cost after 891 iterations: 687.7907726542932\n",
      "Current value of w is [ 0.2   0.   -0.01 -0.06]\n",
      "Current value of b is -0.001985996141019982\n",
      "Cost after 990 iterations: 686.8027369653987\n",
      "Current value of w is [ 0.2   0.   -0.01 -0.07]\n",
      "Current value of b is -0.002214672002461527\n",
      "w,b found by gradient descent: -0.00, [ 0.2   0.   -0.01 -0.07]\n",
      "prediction: 426.19, target value: 460\n",
      "prediction: 286.17, target value: 232\n",
      "prediction: 171.47, target value: 178\n"
     ]
    }
   ],
   "source": [
    "# initialize parameters\n",
    "initial_w = np.zeros_like(w_init)\n",
    "initial_b = 0.\n",
    "# some gradient descent settings\n",
    "iterations = 1000\n",
    "alpha = 5.0e-7\n",
    "# run gradient descent\n",
    "w_final, b_final = gradient_descent(X_train, y_train, initial_w, initial_b, compute_cost, compute_gradient, alpha, iterations)\n",
    "print(f\"w,b found by gradient descent: {b_final:0.2f}, {w_final}\")\n",
    "m,_ = X_train.shape\n",
    "for i in range(m):\n",
    "    print(f\"prediction: {np.dot(X_train[i], w_final)+b_final:0.2f}, target value: {y_train[i]}\")"
   ],
   "metadata": {
    "collapsed": false,
    "ExecuteTime": {
     "end_time": "2023-09-19T14:23:16.814559500Z",
     "start_time": "2023-09-19T14:23:16.740442900Z"
    }
   }
  }
 ],
 "metadata": {
  "kernelspec": {
   "display_name": "Python 3",
   "language": "python",
   "name": "python3"
  },
  "language_info": {
   "codemirror_mode": {
    "name": "ipython",
    "version": 2
   },
   "file_extension": ".py",
   "mimetype": "text/x-python",
   "name": "python",
   "nbconvert_exporter": "python",
   "pygments_lexer": "ipython2",
   "version": "2.7.6"
  }
 },
 "nbformat": 4,
 "nbformat_minor": 0
}
